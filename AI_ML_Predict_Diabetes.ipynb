{
  "nbformat": 4,
  "nbformat_minor": 0,
  "metadata": {
    "colab": {
      "provenance": [],
      "include_colab_link": true
    },
    "kernelspec": {
      "name": "python3",
      "display_name": "Python 3"
    },
    "language_info": {
      "name": "python"
    },
    "accelerator": "GPU"
  },
  "cells": [
    {
      "cell_type": "markdown",
      "metadata": {
        "id": "view-in-github",
        "colab_type": "text"
      },
      "source": [
        "<a href=\"https://colab.research.google.com/github/jadonmichael01/AIML-PredictDiabetes/blob/main/AI_ML_Predict_Diabetes.ipynb\" target=\"_parent\"><img src=\"https://colab.research.google.com/assets/colab-badge.svg\" alt=\"Open In Colab\"/></a>"
      ]
    },
    {
      "cell_type": "markdown",
      "source": [
        "# Pandas Basics"
      ],
      "metadata": {
        "id": "LCVPjpeutBKX"
      }
    },
    {
      "cell_type": "markdown",
      "source": [
        "# Predict Diabetes using SciKit-Learn"
      ],
      "metadata": {
        "id": "-Qj9xGUWtJsl"
      }
    },
    {
      "cell_type": "code",
      "source": [
        "import matplotlib.pyplot as plt\n",
        "import numpy as np\n",
        "from sklearn import datasets, linear_model #datasets contains preexisting training data.\n",
        "from sklearn.metrics import mean_squared_error, r2_score #mean_squared_error is used for linear regression\n",
        "from sklearn.model_selection import train_test_split #train on 80 examples and test on 20 examples\n",
        "\n",
        "# Load the diabetes dataset\n",
        "diabetes_X, diabetes_y = datasets.load_diabetes(return_X_y=True, as_frame=True)\n",
        "len(diabetes_X)"
      ],
      "metadata": {
        "colab": {
          "base_uri": "https://localhost:8080/"
        },
        "id": "utnpsgYjxi4G",
        "outputId": "3a18fde6-7a58-4a25-dc69-f25554b1420f"
      },
      "execution_count": null,
      "outputs": [
        {
          "output_type": "execute_result",
          "data": {
            "text/plain": [
              "442"
            ]
          },
          "metadata": {},
          "execution_count": 10
        }
      ]
    },
    {
      "cell_type": "code",
      "source": [
        "# Use only one feature\n",
        "# diabetes_X = diabetes_X[:, 2]\n",
        "diabetes_X = diabetes_X[\"s5\"]\n",
        "diabetes_X"
      ],
      "metadata": {
        "colab": {
          "base_uri": "https://localhost:8080/"
        },
        "id": "gXvEQKK58nM6",
        "outputId": "075d15ea-d6f0-4e43-bdaa-cf4bdf1a4c0d"
      },
      "execution_count": null,
      "outputs": [
        {
          "output_type": "execute_result",
          "data": {
            "text/plain": [
              "0      0.019908\n",
              "1     -0.068330\n",
              "2      0.002864\n",
              "3      0.022692\n",
              "4     -0.031991\n",
              "         ...   \n",
              "437    0.031193\n",
              "438   -0.018118\n",
              "439   -0.046879\n",
              "440    0.044528\n",
              "441   -0.004220\n",
              "Name: s5, Length: 442, dtype: float64"
            ]
          },
          "metadata": {},
          "execution_count": 12
        }
      ]
    },
    {
      "cell_type": "code",
      "source": [
        "# Use only one feature\n",
        "# diabetes_X = diabetes_X[:, np.newaxis, 2]\n",
        "\n",
        "# Split the data into training/testing sets\n",
        "diabetes_X_train, diabetes_X_test, diabetes_Y_train, diabetes_Y_test = train_test_split(diabetes_X, diabetes_y, test_size=0.2)\n",
        "diabetes_X_train = np.array(diabetes_X_train.values.tolist()).reshape(-1, 1)\n",
        "diabetes_X_test = np.array(diabetes_X_test.values.tolist()).reshape(-1, 1)\n",
        "# diabetes_X_train = diabetes_X[:-20]\n",
        "# diabetes_X_test = diabetes_X[-20:]\n",
        "\n",
        "# Split the targets into training/testing sets\n",
        "# diabetes_y_train = diabetes_y[:-20]\n",
        "# diabetes_y_test = diabetes_y[-20:]\n",
        "\n",
        "# Create linear regression object\n",
        "regr = linear_model.LinearRegression()\n",
        "\n",
        "# Train the model using the training sets\n",
        "regr.fit(diabetes_X_train, diabetes_Y_train)\n",
        "\n",
        "# Make predictions using the testing set\n",
        "diabetes_y_pred = regr.predict(diabetes_X_test)\n",
        "\n",
        "# The coefficients\n",
        "print(\"Coefficients: \\n\", regr.coef_)\n",
        "# The mean squared error\n",
        "print(\"Mean squared error: %.2f\" % mean_squared_error(diabetes_Y_test, diabetes_y_pred))\n",
        "# The coefficient of determination: 1 is perfect prediction\n",
        "print(\"Coefficient of determination: %.2f\" % r2_score(diabetes_Y_test, diabetes_y_pred)) #the correlation of the data if it is 1 it is correlated so\n",
        "\n",
        "# Plot outputs\n",
        "plt.scatter(diabetes_X_test, diabetes_Y_test, color=\"black\")\n",
        "plt.plot(diabetes_X_test, diabetes_y_pred, color=\"blue\", linewidth=3)\n",
        "\n",
        "plt.xticks(())\n",
        "plt.yticks(())\n",
        "\n",
        "plt.show()"
      ],
      "metadata": {
        "colab": {
          "base_uri": "https://localhost:8080/",
          "height": 323
        },
        "id": "dNb0DBpG8RJx",
        "outputId": "9b6963d9-9e1e-4fa5-d1d7-9fb261dac582"
      },
      "execution_count": null,
      "outputs": [
        {
          "output_type": "stream",
          "name": "stdout",
          "text": [
            "Coefficients: \n",
            " [921.04542162]\n",
            "Mean squared error: 3952.55\n",
            "Coefficient of determination: 0.30\n"
          ]
        },
        {
          "output_type": "display_data",
          "data": {
            "text/plain": [
              "<Figure size 432x288 with 1 Axes>"
            ],
            "image/png": "[encoded data removed]"
          },
          "metadata": {}
        }
      ]
    },
    {
      "cell_type": "code",
      "source": [],
      "metadata": {
        "id": "8Xjso1FMwzWe"
      },
      "execution_count": null,
      "outputs": []
    }
  ]
}