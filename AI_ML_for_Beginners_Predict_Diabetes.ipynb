{
  "nbformat": 4,
  "nbformat_minor": 0,
  "metadata": {
    "colab": {
      "provenance": [],
      "include_colab_link": true
    },
    "kernelspec": {
      "name": "python3",
      "display_name": "Python 3"
    },
    "language_info": {
      "name": "python"
    },
    "accelerator": "GPU"
  },
  "cells": [
    {
      "cell_type": "markdown",
      "metadata": {
        "id": "view-in-github",
        "colab_type": "text"
      },
      "source": [
        "<a href=\"https://colab.research.google.com/github/jadonmichael01/AIML-PredictDiabetes/blob/main/AI_ML_for_Beginners_Predict_Diabetes.ipynb\" target=\"_parent\"><img src=\"https://colab.research.google.com/assets/colab-badge.svg\" alt=\"Open In Colab\"/></a>"
      ]
    },
    {
      "cell_type": "markdown",
      "source": [
        "# AI/ML for Beginners\n",
        "\n",
        "- Setup Colab\n",
        "- Python in Colab\n",
        "- Pandas\n",
        "- Predict diabestes using SciKit-Learn\n",
        "- Plot results using matplotlib"
      ],
      "metadata": {
        "id": "W9nV_qEIsNQZ"
      }
    },
    {
      "cell_type": "markdown",
      "source": [
        "# Python Basics"
      ],
      "metadata": {
        "id": "O6UX3tWSs8eK"
      }
    },
    {
      "cell_type": "code",
      "source": [
        "# Python Basics: Variables\n",
        "int_example = 712\n",
        "float_example = 1.012\n",
        "string_example = 'AI / Machine Learning'\n",
        "print(string_example[3:8])\n",
        "\n",
        "print(int_example)\n",
        "print(f\"Int: {int_example}\\n\"\n",
        "      \"Float: {float_example}\\n\"\n",
        "      \"String: {string_example}\")\n",
        "\n",
        "print(string_example[::-1])\n"
      ],
      "metadata": {
        "id": "kBBr8yuls10H",
        "colab": {
          "base_uri": "https://localhost:8080/"
        },
        "outputId": "156e0369-630e-4d32-d382-d6462e032fee"
      },
      "execution_count": null,
      "outputs": [
        {
          "output_type": "stream",
          "name": "stdout",
          "text": [
            "/ Mac\n",
            "712\n",
            "Int: 712\n",
            "Float: {float_example}\n",
            "String: {string_example}\n",
            "gninraeL enihcaM / IA\n"
          ]
        }
      ]
    },
    {
      "cell_type": "code",
      "source": [
        "# Python Basics: Storage holders\n",
        "\n",
        "list_example = [123, \"Word\", True, 10, 12, ['a', False, 2.0]]\n",
        "tuple_example = (\"Pear\", 18, False, [\"list\", \"in\", \"a\", \"tuple\"], 12)\n",
        "dictionary_example = {'First Name': \"John\",\n",
        "                      'Last Name': 'Appleseed', \n",
        "                      'Fruit': 'Apple'}\n",
        "\n",
        "print(dictionary_example[\"First Name\"])\n",
        "print(\"List Example:\")\n",
        "print(list_example[2])\n",
        "print(list_example[1:3])\n",
        "print(list_example[::-1])\n",
        "\n",
        "print(\"\\nTuple Example:\")\n",
        "print(tuple_example[3])\n",
        "\n",
        "print(\"\\nDictionary Example:\")\n",
        "print(dictionary_example.keys())\n",
        "print(dictionary_example.values())"
      ],
      "metadata": {
        "colab": {
          "base_uri": "https://localhost:8080/"
        },
        "id": "g8pITW8kjsYc",
        "outputId": "f489f010-12f1-4dac-d333-ee148c4375ae"
      },
      "execution_count": null,
      "outputs": [
        {
          "output_type": "stream",
          "name": "stdout",
          "text": [
            "John\n",
            "List Example:\n",
            "True\n",
            "['Word', True]\n",
            "[['a', False, 2.0], 12, 10, True, 'Word', 123]\n",
            "\n",
            "Tuple Example:\n",
            "['list', 'in', 'a', 'tuple']\n",
            "\n",
            "Dictionary Example:\n",
            "dict_keys(['First Name', 'Last Name', 'Fruit'])\n",
            "dict_values(['John', 'Appleseed', 'Apple'])\n"
          ]
        }
      ]
    },
    {
      "cell_type": "code",
      "source": [
        "#variables can change types\n",
        "x = 12\n",
        "print(x)\n",
        "x = 3.14\n",
        "print(x)\n",
        "x = \"Hello World\"\n",
        "print(x)"
      ],
      "metadata": {
        "colab": {
          "base_uri": "https://localhost:8080/"
        },
        "id": "K3eg0qq3jzdR",
        "outputId": "de582518-d029-4190-8e54-2cedb8548f05"
      },
      "execution_count": null,
      "outputs": [
        {
          "output_type": "stream",
          "name": "stdout",
          "text": [
            "12\n",
            "3.14\n",
            "Hello World\n"
          ]
        }
      ]
    },
    {
      "cell_type": "code",
      "source": [
        "# indentation is important in python\n",
        "# this code will not run\n",
        "if(5>2):\n",
        "print(\"5 is greater than 2\")\n",
        "\n",
        "# but this will!\n",
        "if (5 > 2):\n",
        "    print(\"5 is greater than 2\")"
      ],
      "metadata": {
        "id": "10EXn1ecj7JR"
      },
      "execution_count": null,
      "outputs": []
    },
    {
      "cell_type": "code",
      "source": [
        "# Python Basics: Loops\n",
        "fruit_bowl = [\"Apple\", \"Pear\", \"Cherry\", \"Grape\", \"Orange\"]\n",
        "for fruit in fruit_bowl:\n",
        "    print(fruit)\n",
        "\n",
        "\n",
        "small_number = 1\n",
        "big_number = 8\n",
        "\n",
        "while(small_number<big_number):\n",
        "    print(small_number, end = \" \")\n",
        "    small_number += 1 # ++ does not exist in python\n"
      ],
      "metadata": {
        "colab": {
          "base_uri": "https://localhost:8080/"
        },
        "id": "mKY2HFIRj98c",
        "outputId": "a4edae0c-f549-44b3-e09d-cbd149dfe5be"
      },
      "execution_count": null,
      "outputs": [
        {
          "output_type": "stream",
          "name": "stdout",
          "text": [
            "Apple\n",
            "Pear\n",
            "Cherry\n",
            "Grape\n",
            "Orange\n",
            "1 2 3 4 5 6 7 "
          ]
        }
      ]
    },
    {
      "cell_type": "markdown",
      "source": [
        "# Pandas Basics"
      ],
      "metadata": {
        "id": "LCVPjpeutBKX"
      }
    },
    {
      "cell_type": "code",
      "source": [
        "# Pandas Basics\n",
        "from numpy.lib.function_base import select\n",
        "import pandas as pd\n",
        "\n",
        "\n",
        "tallest_objects = [\"Burj Khalifa\",\"Merdeka 118\",\"Warsaw Radio Mast\", \"Tokoyo Skytree\"]\n",
        "\n",
        "tallest_objects_column_titles = {\"Building\":tallest_objects,\n",
        "                                 \"Country\":[\"United Arab Emirates\", \"Malaysia\", \"Poland\", \"Japan\"],\n",
        "                                 \"Height(ft)\":[2722, 2227,2121,2100]\n",
        "                                 }\n",
        "\n",
        "data = pd.DataFrame(tallest_objects_column_titles)\n",
        "\n",
        "height_column = data[\"Height(ft)\"]\n",
        "height_column = data[\"Height(ft)\"][2]\n",
        "#print(height_column)\n",
        "\n",
        "select_row = data.iloc[1]\n",
        "select_row_name = data.iloc[1][\"Country\"]\n",
        "#print(select_row)\n",
        "#print(select_row_name)\n",
        "\n",
        "#manipulate data: feet to meters\n",
        "\n",
        "meter_height = []\n",
        "\n",
        "for building in range(len(data)):\n",
        "  f_to_m = data[\"Height(ft)\"][building]/3.281\n",
        "  txt = f\"{f_to_m:.2f}\"\n",
        "  y = float(txt)\n",
        "  meter_height.append(y)\n",
        "  \n",
        "#data[\"Height(m)\"] = meter_height\n",
        "\n",
        "data.to_csv(\"buildings.csv\", index = False, sep= \"\\t\")\n",
        "data.to_csv(\"buildings.txt\", index = False, sep= \"\\t\")\n",
        "\n",
        "#print(data.head(3))\n",
        "#print(data.tail(3))\n",
        "\n",
        "#replace = data.replace(\"United Arab Emirates\", \"UAE\")\n",
        "#print(replace)\n",
        "\n",
        "#removed = data.drop(\"Height(ft)\", axis =1)\n",
        "#removed = data.drop(\"Height(ft)\",\"Country\", axis =1)\n",
        "#removed = data.iloc[1:3]\n",
        "#print(removed)\n",
        "\n",
        "print(data)\n",
        "\n"
      ],
      "metadata": {
        "id": "5yFu3uN5s5LR",
        "colab": {
          "base_uri": "https://localhost:8080/"
        },
        "outputId": "ff6033f4-e4c2-4bd5-810f-3ef56799155c"
      },
      "execution_count": null,
      "outputs": [
        {
          "output_type": "stream",
          "name": "stdout",
          "text": [
            "            Building               Country  Height(ft)\n",
            "0       Burj Khalifa  United Arab Emirates        2722\n",
            "1        Merdeka 118              Malaysia        2227\n",
            "2  Warsaw Radio Mast                Poland        2121\n",
            "3     Tokoyo Skytree                 Japan        2100\n"
          ]
        }
      ]
    },
    {
      "cell_type": "markdown",
      "source": [
        "# Matplotlib Basics"
      ],
      "metadata": {
        "id": "iFfXJAiWk-yV"
      }
    },
    {
      "cell_type": "code",
      "source": [
        "import matplotlib.pyplot as plt\n",
        "\n",
        "positive_list   = [1, 2, 3, 4, 5, 6, 7, 8, 9, 10]\n",
        "negative_list   = [-1, -2, -3, -4, -5, -6, -7, -8, -9, -10]\n",
        "\n",
        "#Plotting a list\n",
        "plt.plot(positive_list)\n",
        "plt.plot(negative_list)\n",
        "\n",
        "#plt.plot(positive_list,'d')   #d transforms the points into diamonds\n",
        "#plt.plot(negative_list,'ro:') #r makes it red, o is for circles, : creates dotted line\n",
        "\n",
        "#Lables\n",
        "plt.ylabel(\"Y Axis\")\n",
        "plt.xlabel(\"X Axis\")\n",
        "plt.legend([\"Positive\",\"Negative\"])\n",
        "\n",
        "#Header\n",
        "plt.title(\"Matplotlib Activity\")\n",
        "\n",
        "plt.show()"
      ],
      "metadata": {
        "colab": {
          "base_uri": "https://localhost:8080/",
          "height": 295
        },
        "id": "LmUY2r6WlEij",
        "outputId": "d69ea7aa-0f1e-4dd3-a474-c443004629fc"
      },
      "execution_count": null,
      "outputs": [
        {
          "output_type": "display_data",
          "data": {
            "text/plain": [
              "<Figure size 432x288 with 1 Axes>"
            ],
            "image/png": "[encoded data removed]"
          },
          "metadata": {
            "needs_background": "light"
          }
        }
      ]
    },
    {
      "cell_type": "markdown",
      "source": [
        "# SkiKit-Learn Basics"
      ],
      "metadata": {
        "id": "5JjNcuUW8FgO"
      }
    },
    {
      "cell_type": "markdown",
      "source": [
        "# Predict Diabetes using SciKit-Learn"
      ],
      "metadata": {
        "id": "-Qj9xGUWtJsl"
      }
    },
    {
      "cell_type": "code",
      "source": [
        "import matplotlib.pyplot as plt\n",
        "import numpy as np\n",
        "from sklearn import datasets, linear_model #datasets contains preexisting training data.\n",
        "from sklearn.metrics import mean_squared_error, r2_score #mean_squared_error is used for linear regression\n",
        "from sklearn.model_selection import train_test_split #train on 80 examples and test on 20 examples\n",
        "\n",
        "# Load the diabetes dataset\n",
        "diabetes_X, diabetes_y = datasets.load_diabetes(return_X_y=True, as_frame=True)\n",
        "len(diabetes_X)"
      ],
      "metadata": {
        "colab": {
          "base_uri": "https://localhost:8080/"
        },
        "id": "utnpsgYjxi4G",
        "outputId": "3a18fde6-7a58-4a25-dc69-f25554b1420f"
      },
      "execution_count": null,
      "outputs": [
        {
          "output_type": "execute_result",
          "data": {
            "text/plain": [
              "442"
            ]
          },
          "metadata": {},
          "execution_count": 10
        }
      ]
    },
    {
      "cell_type": "code",
      "source": [
        "# Use only one feature\n",
        "# diabetes_X = diabetes_X[:, 2]\n",
        "diabetes_X = diabetes_X[\"s5\"]\n",
        "diabetes_X"
      ],
      "metadata": {
        "colab": {
          "base_uri": "https://localhost:8080/"
        },
        "id": "gXvEQKK58nM6",
        "outputId": "075d15ea-d6f0-4e43-bdaa-cf4bdf1a4c0d"
      },
      "execution_count": null,
      "outputs": [
        {
          "output_type": "execute_result",
          "data": {
            "text/plain": [
              "0      0.019908\n",
              "1     -0.068330\n",
              "2      0.002864\n",
              "3      0.022692\n",
              "4     -0.031991\n",
              "         ...   \n",
              "437    0.031193\n",
              "438   -0.018118\n",
              "439   -0.046879\n",
              "440    0.044528\n",
              "441   -0.004220\n",
              "Name: s5, Length: 442, dtype: float64"
            ]
          },
          "metadata": {},
          "execution_count": 12
        }
      ]
    },
    {
      "cell_type": "code",
      "source": [
        "# Use only one feature\n",
        "# diabetes_X = diabetes_X[:, np.newaxis, 2]\n",
        "\n",
        "# Split the data into training/testing sets\n",
        "diabetes_X_train, diabetes_X_test, diabetes_Y_train, diabetes_Y_test = train_test_split(diabetes_X, diabetes_y, test_size=0.2)\n",
        "diabetes_X_train = np.array(diabetes_X_train.values.tolist()).reshape(-1, 1)\n",
        "diabetes_X_test = np.array(diabetes_X_test.values.tolist()).reshape(-1, 1)\n",
        "# diabetes_X_train = diabetes_X[:-20]\n",
        "# diabetes_X_test = diabetes_X[-20:]\n",
        "\n",
        "# Split the targets into training/testing sets\n",
        "# diabetes_y_train = diabetes_y[:-20]\n",
        "# diabetes_y_test = diabetes_y[-20:]\n",
        "\n",
        "# Create linear regression object\n",
        "regr = linear_model.LinearRegression()\n",
        "\n",
        "# Train the model using the training sets\n",
        "regr.fit(diabetes_X_train, diabetes_Y_train)\n",
        "\n",
        "# Make predictions using the testing set\n",
        "diabetes_y_pred = regr.predict(diabetes_X_test)\n",
        "\n",
        "# The coefficients\n",
        "print(\"Coefficients: \\n\", regr.coef_)\n",
        "# The mean squared error\n",
        "print(\"Mean squared error: %.2f\" % mean_squared_error(diabetes_Y_test, diabetes_y_pred))\n",
        "# The coefficient of determination: 1 is perfect prediction\n",
        "print(\"Coefficient of determination: %.2f\" % r2_score(diabetes_Y_test, diabetes_y_pred)) #the correlation of the data if it is 1 it is correlated so\n",
        "\n",
        "# Plot outputs\n",
        "plt.scatter(diabetes_X_test, diabetes_Y_test, color=\"black\")\n",
        "plt.plot(diabetes_X_test, diabetes_y_pred, color=\"blue\", linewidth=3)\n",
        "\n",
        "plt.xticks(())\n",
        "plt.yticks(())\n",
        "\n",
        "plt.show()"
      ],
      "metadata": {
        "colab": {
          "base_uri": "https://localhost:8080/",
          "height": 323
        },
        "id": "dNb0DBpG8RJx",
        "outputId": "9b6963d9-9e1e-4fa5-d1d7-9fb261dac582"
      },
      "execution_count": null,
      "outputs": [
        {
          "output_type": "stream",
          "name": "stdout",
          "text": [
            "Coefficients: \n",
            " [921.04542162]\n",
            "Mean squared error: 3952.55\n",
            "Coefficient of determination: 0.30\n"
          ]
        },
        {
          "output_type": "display_data",
          "data": {
            "text/plain": [
              "<Figure size 432x288 with 1 Axes>"
            ],
            "image/png": "[encoded data removed]"
          },
          "metadata": {}
        }
      ]
    },
    {
      "cell_type": "code",
      "source": [],
      "metadata": {
        "id": "8Xjso1FMwzWe"
      },
      "execution_count": null,
      "outputs": []
    }
  ]
}